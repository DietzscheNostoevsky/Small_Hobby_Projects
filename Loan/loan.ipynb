{
 "cells": [
  {
   "attachments": {},
   "cell_type": "markdown",
   "metadata": {},
   "source": [
    "##  Calculating amount"
   ]
  },
  {
   "cell_type": "code",
   "execution_count": 6,
   "metadata": {},
   "outputs": [
    {
     "name": "stdout",
     "output_type": "stream",
     "text": [
      "Curernt Loan: -1003812.93\n",
      "Month :  0 Interest : -7988.68 Amount =  -972211.61\n",
      "Month :  1 Interest : -7737.18 Amount =  -940358.79\n",
      "Month :  2 Interest : -7483.69 Amount =  -908252.48\n",
      "Month :  3 Interest : -7228.18 Amount =  -875890.66\n",
      "Month :  4 Interest : -6970.63 Amount =  -843271.29\n",
      "Month :  5 Interest : -6711.03 Amount =  -810392.32\n",
      "Month :  6 Interest : -6449.37 Amount =  -777251.69\n",
      "Month :  7 Interest : -6185.63 Amount =  -743847.32\n",
      "Month :  8 Interest : -5919.78 Amount =  -710177.11\n",
      "Month :  9 Interest : -5651.83 Amount =  -676238.93\n",
      "Month :  10 Interest : -5381.73 Amount =  -642030.67\n",
      "Month :  11 Interest : -5109.49 Amount =  -607550.16\n",
      "Month :  12 Interest : -4835.09 Amount =  -572795.25\n",
      "Month :  13 Interest : -4558.5 Amount =  -537763.74\n",
      "Month :  14 Interest : -4279.7 Amount =  -502453.45\n",
      "Month :  15 Interest : -3998.69 Amount =  -466862.14\n",
      "Month :  16 Interest : -3715.44 Amount =  -430987.58\n",
      "Month :  17 Interest : -3429.94 Amount =  -394827.53\n",
      "Month :  18 Interest : -3142.17 Amount =  -358379.69\n",
      "Month :  19 Interest : -2852.11 Amount =  -321641.8\n",
      "Month :  20 Interest : -2559.73 Amount =  -284611.53\n",
      "Month :  21 Interest : -2265.03 Amount =  -247286.57\n",
      "Month :  22 Interest : -1967.99 Amount =  -209664.55\n",
      "Month :  23 Interest : -1668.58 Amount =  -171743.13\n",
      "Month :  24 Interest : -1366.79 Amount =  -133519.92\n",
      "Month :  25 Interest : -1062.6 Amount =  -94992.52\n",
      "Month :  26 Interest : -755.98 Amount =  -56158.5\n",
      "Month :  27 Interest : -446.93 Amount =  -17015.43\n",
      "Interest total :  -121722.5003170806\n"
     ]
    }
   ],
   "source": [
    "months = int(input(\"Enter remaining months : \") or \"40\" )\n",
    "\n",
    "\n",
    "Amount = -1003812.93 # Amount to be negative \n",
    "#Amount = 100000\n",
    "\n",
    "ROI = 9.55\n",
    "I = (ROI / 12 ) / 100  \n",
    "interest = 0.15 # Calculate R by ROI/12/100\n",
    "EMI = 39590\n",
    "print(\"Curernt Loan:\" , Amount)\n",
    "total_interest = 0\n",
    "\n",
    "for m in range(months)  : \n",
    "    int_amount =  (Amount * I)\n",
    "    total_interest = total_interest + int_amount\n",
    "    Amount = Amount + int_amount # bank adds interest at the end of every month to the loan amount\n",
    "    Amount = Amount + EMI # A payment of this fixed number is made to the bank at the end of the month \n",
    "    print(\"Month : \" , m , \"Interest :\", round(int_amount, 2), \"Amount = \" , round(Amount,2))\n",
    "    \n",
    "print(\"Interest total : \", total_interest)"
   ]
  },
  {
   "cell_type": "code",
   "execution_count": 3,
   "metadata": {},
   "outputs": [
    {
     "name": "stdout",
     "output_type": "stream",
     "text": [
      "Month :  0 Amount =  1243220.2417544893 Payment :  39590\n",
      "Month :  1 Amount =  1219170.4947764203 Payment :  79180\n",
      "Month :  2 Amount =  1194820.1259611256 Payment :  118770\n",
      "Month :  3 Amount =  1170165.3775356396 Payment :  158360\n",
      "Month :  4 Amount =  1145202.444754835 Payment :  197950\n",
      "Month :  5 Amount =  1119927.4753142705 Payment :  237540\n",
      "Month :  6 Amount =  1094336.5687556989 Payment :  277130\n",
      "Month :  7 Amount =  1068425.775865145 Payment :  316720\n",
      "Month :  8 Amount =  1042191.0980634594 Payment :  356310\n",
      "Month :  9 Amount =  1015628.4867892526 Payment :  395900\n",
      "Month :  10 Amount =  988733.8428741182 Payment :  435490\n",
      "Month :  11 Amount =  961503.0159100448 Payment :  475080\n",
      "Month :  12 Amount =  933931.8036089203 Payment :  514670\n",
      "Month :  13 Amount =  906015.9511540318 Payment :  554260\n",
      "Month :  14 Amount =  877751.1505434571 Payment :  593850\n",
      "Month :  15 Amount =  849133.0399252503 Payment :  633440\n",
      "Month :  16 Amount =  820157.2029243159 Payment :  673030\n",
      "Month :  17 Amount =  790819.1679608698 Payment :  712620\n",
      "Month :  18 Amount =  761114.4075603808 Payment :  752210\n",
      "Month :  19 Amount =  731038.3376548855 Payment :  791800\n",
      "Month :  20 Amount =  700586.3168755715 Payment :  831390\n",
      "Month :  21 Amount =  669753.6458365162 Payment :  870980\n",
      "Month :  22 Amount =  638535.5664094726 Payment :  910570\n",
      "Month :  23 Amount =  606927.260989591 Payment :  950160\n",
      "Month :  24 Amount =  574923.8517519609 Payment :  989750\n",
      "Month :  25 Amount =  542520.3998988605 Payment :  1029340\n",
      "Month :  26 Amount =  509711.9048975962 Payment :  1068930\n",
      "Month :  27 Amount =  476493.3037088162 Payment :  1108520\n",
      "Month :  28 Amount =  442859.4700051764 Payment :  1148110\n",
      "Month :  29 Amount =  408805.21338024107 Payment :  1187700\n",
      "Month :  30 Amount =  374325.2785474941 Payment :  1227290\n",
      "Month :  31 Amount =  339414.3445293378 Payment :  1266880\n",
      "Month :  32 Amount =  304067.0238359545 Payment :  1306470\n",
      "Month :  33 Amount =  268277.8616339039 Payment :  1346060\n",
      "Month :  34 Amount =  232041.33490432773 Payment :  1385650\n",
      "Month :  35 Amount =  195351.85159063182 Payment :  1425240\n",
      "Month :  36 Amount =  158203.74973551472 Payment :  1464830\n",
      "Month :  37 Amount =  120591.29660720866 Payment :  1504420\n",
      "Month :  38 Amount =  82508.68781479876 Payment :  1544010\n",
      "Month :  39 Amount =  43950.046412483745 Payment :  1583600\n",
      "Month :  40 Amount =  4909.421992639792 Payment :  1623190\n",
      "Month :  41 Amount =  -34619.21023245221 Payment :  1662780\n",
      "Month :  42 Amount =  -74641.95036035786 Payment :  1702370\n",
      "Month :  43 Amount =  -115164.97473986233 Payment :  1741960\n",
      "Month :  44 Amount =  -156194.53692411058 Payment :  1781550\n"
     ]
    }
   ],
   "source": [
    "months = int(input(\"Enter remaining months : \") or \"45\")\n",
    "Amount = 1266973.0782760389\n",
    "# Amount = 100000\n",
    "payment = 0\n",
    "interest = 0.15\n",
    "EMI = 39590\n",
    "for m in range(months):\n",
    "    int_amount = ((Amount * interest)) / 12\n",
    "\n",
    "    Amount = Amount - EMI + int_amount\n",
    "    payment = payment + EMI\n",
    "    print(\"Month : \", m, \"Amount = \", Amount , \"Payment : \", payment)\n"
   ]
  },
  {
   "cell_type": "code",
   "execution_count": 4,
   "metadata": {},
   "outputs": [
    {
     "name": "stdout",
     "output_type": "stream",
     "text": [
      "mpnth :  0 interest :  7099.999999999999 Amount = 7099.999999999999\n",
      "mpnth :  1 interest :  7099.999999999999 Amount = 14199.999999999998\n",
      "mpnth :  2 interest :  7099.999999999999 Amount = 21299.999999999996\n",
      "mpnth :  3 interest :  7099.999999999999 Amount = 28399.999999999996\n",
      "mpnth :  4 interest :  7099.999999999999 Amount = 35499.99999999999\n",
      "mpnth :  5 interest :  7099.999999999999 Amount = 42599.99999999999\n",
      "mpnth :  6 interest :  7099.999999999999 Amount = 49699.99999999999\n",
      "mpnth :  7 interest :  7099.999999999999 Amount = 56799.99999999999\n",
      "mpnth :  8 interest :  7099.999999999999 Amount = 63899.99999999999\n",
      "mpnth :  9 interest :  7099.999999999999 Amount = 70999.99999999999\n",
      "mpnth :  10 interest :  7099.999999999999 Amount = 78099.99999999999\n",
      "mpnth :  11 interest :  7099.999999999999 Amount = 85199.99999999999\n",
      "mpnth :  12 interest :  7099.999999999999 Amount = 92299.99999999999\n",
      "mpnth :  13 interest :  7099.999999999999 Amount = 99399.99999999999\n",
      "mpnth :  14 interest :  7099.999999999999 Amount = 106499.99999999999\n",
      "mpnth :  15 interest :  7099.999999999999 Amount = 113599.99999999999\n",
      "mpnth :  16 interest :  7099.999999999999 Amount = 120699.99999999999\n",
      "mpnth :  17 interest :  7099.999999999999 Amount = 127799.99999999999\n",
      "mpnth :  18 interest :  7099.999999999999 Amount = 134899.99999999997\n",
      "mpnth :  19 interest :  7099.999999999999 Amount = 141999.99999999997\n",
      "mpnth :  20 interest :  7099.999999999999 Amount = 149099.99999999997\n",
      "mpnth :  21 interest :  7099.999999999999 Amount = 156199.99999999997\n",
      "mpnth :  22 interest :  7099.999999999999 Amount = 163299.99999999997\n",
      "mpnth :  23 interest :  7099.999999999999 Amount = 170399.99999999997\n",
      "mpnth :  24 interest :  7099.999999999999 Amount = 177499.99999999997\n",
      "mpnth :  25 interest :  7099.999999999999 Amount = 184599.99999999997\n",
      "mpnth :  26 interest :  7099.999999999999 Amount = 191699.99999999997\n",
      "mpnth :  27 interest :  7099.999999999999 Amount = 198799.99999999997\n",
      "mpnth :  28 interest :  7099.999999999999 Amount = 205899.99999999997\n",
      "mpnth :  29 interest :  7099.999999999999 Amount = 212999.99999999997\n",
      "mpnth :  30 interest :  7099.999999999999 Amount = 220099.99999999997\n",
      "mpnth :  31 interest :  7099.999999999999 Amount = 227199.99999999997\n",
      "mpnth :  32 interest :  7099.999999999999 Amount = 234299.99999999997\n",
      "mpnth :  33 interest :  7099.999999999999 Amount = 241399.99999999997\n",
      "mpnth :  34 interest :  7099.999999999999 Amount = 248499.99999999997\n",
      "mpnth :  35 interest :  7099.999999999999 Amount = 255599.99999999997\n"
     ]
    }
   ],
   "source": [
    "months = int(input(\"Enter remaining months : \") or \"36\")\n",
    "Amount = 1200000\n",
    "# Amount = 100000\n",
    "receive = 0\n",
    "interest = 0.071\n",
    "EMI = 39590\n",
    "for m in range(months):\n",
    "    int_amount = ((Amount * interest)) / 12\n",
    "    receive = receive + int_amount\n",
    "    print(\"mpnth : \", m , \"interest : \" , int_amount , \"Amount =\" , receive) \n",
    "    \n",
    "    #print(\"Month : \", m, \"Amount = \", Amount)\n"
   ]
  }
 ],
 "metadata": {
  "kernelspec": {
   "display_name": "Python 3",
   "language": "python",
   "name": "python3"
  },
  "language_info": {
   "codemirror_mode": {
    "name": "ipython",
    "version": 3
   },
   "file_extension": ".py",
   "mimetype": "text/x-python",
   "name": "python",
   "nbconvert_exporter": "python",
   "pygments_lexer": "ipython3",
   "version": "3.11.4"
  },
  "orig_nbformat": 4,
  "vscode": {
   "interpreter": {
    "hash": "aee8b7b246df8f9039afb4144a1f6fd8d2ca17a180786b69acc140d282b71a49"
   }
  }
 },
 "nbformat": 4,
 "nbformat_minor": 2
}
