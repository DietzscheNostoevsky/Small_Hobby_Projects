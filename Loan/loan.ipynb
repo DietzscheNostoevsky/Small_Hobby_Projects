{
 "cells": [
  {
   "attachments": {},
   "cell_type": "markdown",
   "metadata": {},
   "source": [
    "##  Calculating amount"
   ]
  },
  {
   "cell_type": "code",
   "execution_count": 39,
   "metadata": {},
   "outputs": [
    {
     "name": "stdout",
     "output_type": "stream",
     "text": [
      "Month :  0 Amount =  1550348.804125\n",
      "Month :  1 Amount =  1530138.1641765626\n",
      "Month :  2 Amount =  1509674.8912287697\n",
      "Month :  3 Amount =  1488955.8273691293\n",
      "Month :  4 Amount =  1467977.7752112434\n",
      "Month :  5 Amount =  1446737.497401384\n",
      "Month :  6 Amount =  1425231.7161189013\n",
      "Month :  7 Amount =  1403457.1125703875\n",
      "Month :  8 Amount =  1381410.3264775174\n",
      "Month :  9 Amount =  1359087.9555584863\n",
      "Month :  10 Amount =  1336486.5550029674\n",
      "Month :  11 Amount =  1313602.6369405044\n",
      "Month :  12 Amount =  1290432.6699022606\n",
      "Month :  13 Amount =  1266973.0782760389\n",
      "Month :  14 Amount =  1243220.2417544893\n",
      "Month :  15 Amount =  1219170.4947764203\n",
      "Month :  16 Amount =  1194820.1259611256\n",
      "Month :  17 Amount =  1170165.3775356396\n",
      "Month :  18 Amount =  1145202.444754835\n",
      "Month :  19 Amount =  1119927.4753142705\n",
      "Month :  20 Amount =  1094336.5687556989\n",
      "Month :  21 Amount =  1068425.775865145\n",
      "Month :  22 Amount =  1042191.0980634594\n",
      "Month :  23 Amount =  1015628.4867892526\n",
      "Month :  24 Amount =  988733.8428741182\n",
      "Month :  25 Amount =  961503.0159100448\n",
      "Month :  26 Amount =  933931.8036089203\n",
      "Month :  27 Amount =  906015.9511540318\n",
      "Month :  28 Amount =  877751.1505434571\n",
      "Month :  29 Amount =  849133.0399252503\n",
      "Month :  30 Amount =  820157.2029243159\n",
      "Month :  31 Amount =  790819.1679608698\n",
      "Month :  32 Amount =  761114.4075603808\n",
      "Month :  33 Amount =  731038.3376548855\n",
      "Month :  34 Amount =  700586.3168755715\n",
      "Month :  35 Amount =  669753.6458365162\n",
      "Month :  36 Amount =  638535.5664094726\n",
      "Month :  37 Amount =  606927.260989591\n",
      "Month :  38 Amount =  574923.8517519609\n",
      "Month :  39 Amount =  542520.3998988605\n",
      "Month :  40 Amount =  509711.9048975962\n",
      "Month :  41 Amount =  476493.3037088162\n",
      "Month :  42 Amount =  442859.4700051764\n",
      "Month :  43 Amount =  408805.21338024107\n",
      "Month :  44 Amount =  374325.2785474941\n",
      "Month :  45 Amount =  339414.3445293378\n",
      "Month :  46 Amount =  304067.0238359545\n",
      "Month :  47 Amount =  268277.8616339039\n",
      "Month :  48 Amount =  232041.33490432773\n",
      "Month :  49 Amount =  195351.85159063182\n"
     ]
    }
   ],
   "source": [
    "months = int(input(\"Enter remaining months : \") or \"50\" )\n",
    "Amount = 1570309.93\n",
    "#Amount = 100000\n",
    "\n",
    "interest = 0.15 \n",
    "EMI = 39590\n",
    "for m in range(months)  : \n",
    "    int_amount =  ((Amount * interest)) / 12\n",
    "    \n",
    "    Amount = Amount - EMI + int_amount\n",
    "    print(\"Month : \" , m , \"Amount = \" , Amount)"
   ]
  },
  {
   "cell_type": "code",
   "execution_count": 41,
   "metadata": {},
   "outputs": [
    {
     "name": "stdout",
     "output_type": "stream",
     "text": [
      "Month :  0 Amount =  1243220.2417544893 Payment :  39590\n",
      "Month :  1 Amount =  1219170.4947764203 Payment :  79180\n",
      "Month :  2 Amount =  1194820.1259611256 Payment :  118770\n",
      "Month :  3 Amount =  1170165.3775356396 Payment :  158360\n",
      "Month :  4 Amount =  1145202.444754835 Payment :  197950\n",
      "Month :  5 Amount =  1119927.4753142705 Payment :  237540\n",
      "Month :  6 Amount =  1094336.5687556989 Payment :  277130\n",
      "Month :  7 Amount =  1068425.775865145 Payment :  316720\n",
      "Month :  8 Amount =  1042191.0980634594 Payment :  356310\n",
      "Month :  9 Amount =  1015628.4867892526 Payment :  395900\n",
      "Month :  10 Amount =  988733.8428741182 Payment :  435490\n",
      "Month :  11 Amount =  961503.0159100448 Payment :  475080\n",
      "Month :  12 Amount =  933931.8036089203 Payment :  514670\n",
      "Month :  13 Amount =  906015.9511540318 Payment :  554260\n",
      "Month :  14 Amount =  877751.1505434571 Payment :  593850\n",
      "Month :  15 Amount =  849133.0399252503 Payment :  633440\n",
      "Month :  16 Amount =  820157.2029243159 Payment :  673030\n",
      "Month :  17 Amount =  790819.1679608698 Payment :  712620\n",
      "Month :  18 Amount =  761114.4075603808 Payment :  752210\n",
      "Month :  19 Amount =  731038.3376548855 Payment :  791800\n",
      "Month :  20 Amount =  700586.3168755715 Payment :  831390\n",
      "Month :  21 Amount =  669753.6458365162 Payment :  870980\n",
      "Month :  22 Amount =  638535.5664094726 Payment :  910570\n",
      "Month :  23 Amount =  606927.260989591 Payment :  950160\n",
      "Month :  24 Amount =  574923.8517519609 Payment :  989750\n",
      "Month :  25 Amount =  542520.3998988605 Payment :  1029340\n",
      "Month :  26 Amount =  509711.9048975962 Payment :  1068930\n",
      "Month :  27 Amount =  476493.3037088162 Payment :  1108520\n",
      "Month :  28 Amount =  442859.4700051764 Payment :  1148110\n",
      "Month :  29 Amount =  408805.21338024107 Payment :  1187700\n",
      "Month :  30 Amount =  374325.2785474941 Payment :  1227290\n",
      "Month :  31 Amount =  339414.3445293378 Payment :  1266880\n",
      "Month :  32 Amount =  304067.0238359545 Payment :  1306470\n",
      "Month :  33 Amount =  268277.8616339039 Payment :  1346060\n",
      "Month :  34 Amount =  232041.33490432773 Payment :  1385650\n",
      "Month :  35 Amount =  195351.85159063182 Payment :  1425240\n",
      "Month :  36 Amount =  158203.74973551472 Payment :  1464830\n",
      "Month :  37 Amount =  120591.29660720866 Payment :  1504420\n",
      "Month :  38 Amount =  82508.68781479876 Payment :  1544010\n",
      "Month :  39 Amount =  43950.046412483745 Payment :  1583600\n",
      "Month :  40 Amount =  4909.421992639792 Payment :  1623190\n",
      "Month :  41 Amount =  -34619.21023245221 Payment :  1662780\n",
      "Month :  42 Amount =  -74641.95036035786 Payment :  1702370\n",
      "Month :  43 Amount =  -115164.97473986233 Payment :  1741960\n",
      "Month :  44 Amount =  -156194.53692411058 Payment :  1781550\n"
     ]
    }
   ],
   "source": [
    "months = int(input(\"Enter remaining months : \") or \"45\")\n",
    "Amount = 1266973.0782760389\n",
    "# Amount = 100000\n",
    "payment = 0\n",
    "interest = 0.15\n",
    "EMI = 39590\n",
    "for m in range(months):\n",
    "    int_amount = ((Amount * interest)) / 12\n",
    "\n",
    "    Amount = Amount - EMI + int_amount\n",
    "    payment = payment + EMI\n",
    "    print(\"Month : \", m, \"Amount = \", Amount , \"Payment : \", payment)\n"
   ]
  },
  {
   "cell_type": "code",
   "execution_count": 32,
   "metadata": {},
   "outputs": [
    {
     "name": "stdout",
     "output_type": "stream",
     "text": [
      "mpnth :  0 interest :  7099.999999999999 Amount = 7099.999999999999\n",
      "mpnth :  1 interest :  7099.999999999999 Amount = 14199.999999999998\n",
      "mpnth :  2 interest :  7099.999999999999 Amount = 21299.999999999996\n",
      "mpnth :  3 interest :  7099.999999999999 Amount = 28399.999999999996\n",
      "mpnth :  4 interest :  7099.999999999999 Amount = 35499.99999999999\n",
      "mpnth :  5 interest :  7099.999999999999 Amount = 42599.99999999999\n",
      "mpnth :  6 interest :  7099.999999999999 Amount = 49699.99999999999\n",
      "mpnth :  7 interest :  7099.999999999999 Amount = 56799.99999999999\n",
      "mpnth :  8 interest :  7099.999999999999 Amount = 63899.99999999999\n",
      "mpnth :  9 interest :  7099.999999999999 Amount = 70999.99999999999\n",
      "mpnth :  10 interest :  7099.999999999999 Amount = 78099.99999999999\n",
      "mpnth :  11 interest :  7099.999999999999 Amount = 85199.99999999999\n",
      "mpnth :  12 interest :  7099.999999999999 Amount = 92299.99999999999\n",
      "mpnth :  13 interest :  7099.999999999999 Amount = 99399.99999999999\n",
      "mpnth :  14 interest :  7099.999999999999 Amount = 106499.99999999999\n",
      "mpnth :  15 interest :  7099.999999999999 Amount = 113599.99999999999\n",
      "mpnth :  16 interest :  7099.999999999999 Amount = 120699.99999999999\n",
      "mpnth :  17 interest :  7099.999999999999 Amount = 127799.99999999999\n",
      "mpnth :  18 interest :  7099.999999999999 Amount = 134899.99999999997\n",
      "mpnth :  19 interest :  7099.999999999999 Amount = 141999.99999999997\n",
      "mpnth :  20 interest :  7099.999999999999 Amount = 149099.99999999997\n",
      "mpnth :  21 interest :  7099.999999999999 Amount = 156199.99999999997\n",
      "mpnth :  22 interest :  7099.999999999999 Amount = 163299.99999999997\n",
      "mpnth :  23 interest :  7099.999999999999 Amount = 170399.99999999997\n",
      "mpnth :  24 interest :  7099.999999999999 Amount = 177499.99999999997\n",
      "mpnth :  25 interest :  7099.999999999999 Amount = 184599.99999999997\n",
      "mpnth :  26 interest :  7099.999999999999 Amount = 191699.99999999997\n",
      "mpnth :  27 interest :  7099.999999999999 Amount = 198799.99999999997\n",
      "mpnth :  28 interest :  7099.999999999999 Amount = 205899.99999999997\n",
      "mpnth :  29 interest :  7099.999999999999 Amount = 212999.99999999997\n",
      "mpnth :  30 interest :  7099.999999999999 Amount = 220099.99999999997\n",
      "mpnth :  31 interest :  7099.999999999999 Amount = 227199.99999999997\n",
      "mpnth :  32 interest :  7099.999999999999 Amount = 234299.99999999997\n",
      "mpnth :  33 interest :  7099.999999999999 Amount = 241399.99999999997\n",
      "mpnth :  34 interest :  7099.999999999999 Amount = 248499.99999999997\n",
      "mpnth :  35 interest :  7099.999999999999 Amount = 255599.99999999997\n"
     ]
    }
   ],
   "source": [
    "months = int(input(\"Enter remaining months : \") or \"36\")\n",
    "Amount = 1200000\n",
    "# Amount = 100000\n",
    "receive = 0\n",
    "interest = 0.071\n",
    "EMI = 39590\n",
    "for m in range(months):\n",
    "    int_amount = ((Amount * interest)) / 12\n",
    "    receive = receive + int_amount\n",
    "    print(\"mpnth : \", m , \"interest : \" , int_amount , \"Amount =\" , receive) \n",
    "    \n",
    "    #print(\"Month : \", m, \"Amount = \", Amount)\n"
   ]
  }
 ],
 "metadata": {
  "kernelspec": {
   "display_name": "Python 3",
   "language": "python",
   "name": "python3"
  },
  "language_info": {
   "codemirror_mode": {
    "name": "ipython",
    "version": 3
   },
   "file_extension": ".py",
   "mimetype": "text/x-python",
   "name": "python",
   "nbconvert_exporter": "python",
   "pygments_lexer": "ipython3",
   "version": "3.9.6"
  },
  "orig_nbformat": 4,
  "vscode": {
   "interpreter": {
    "hash": "aee8b7b246df8f9039afb4144a1f6fd8d2ca17a180786b69acc140d282b71a49"
   }
  }
 },
 "nbformat": 4,
 "nbformat_minor": 2
}
