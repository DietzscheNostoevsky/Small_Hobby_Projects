{
  "cells": [
    {
      "cell_type": "markdown",
      "metadata": {
        "id": "dZq_2RMV5g8B"
      },
      "source": [
        "# What I do here\n",
        "\n",
        "1. I download all Hikaru's games\n",
        "2. I calculate how likely it is that Hikaru wins each game based on the Elo difference\n",
        "3. I simulate all the Hikaru's games this year based on these likelihoods. I run the simulation 10,000x and check the longest win streak in each simulation.\n",
        "\n",
        "## Result\n",
        "\n",
        "On average, Hikaru should have achieved a maximum win streak of 47.41 blitz games this year.\n",
        "\n",
        "# Some caveats\n",
        "\n",
        "I have made several simplifications:\n",
        "\n",
        "1. I assume that the expected point gain is linear w.r.t. the Elo difference. Each 100 Elo points give you 9.7% increase in your win percentage. This should be okay according to [this analysis](https://en.chessbase.com/post/the-sonas-rating-formula-better-than-elo).  \n",
        "2. I do not simulate draws, but this should make the win streaks even harder if anything."
      ]
    },
    {
      "cell_type": "code",
      "execution_count": 1,
      "metadata": {
        "colab": {
          "base_uri": "https://localhost:8080/"
        },
        "id": "lbEOpBxlyF_t",
        "outputId": "9f9e6bbb-86cc-40a2-b3f9-ff8d6b0a5c05"
      },
      "outputs": [
        {
          "name": "stdout",
          "output_type": "stream",
          "text": [
            "Collecting chess.com\n",
            "  Obtaining dependency information for chess.com from https://files.pythonhosted.org/packages/a6/af/66d14cb0645b2c251778ea266497885bcff60201b2fd001cf487e8156567/chess.com-2.1.0-py3-none-any.whl.metadata\n",
            "  Downloading chess.com-2.1.0-py3-none-any.whl.metadata (4.0 kB)\n",
            "Requirement already satisfied: aiohttp==3.8.3 in /home/saurabh-singh/miniconda3/envs/mlenv/lib/python3.11/site-packages (from chess.com) (3.8.3)\n",
            "Collecting requests==2.28.0 (from chess.com)\n",
            "  Downloading requests-2.28.0-py3-none-any.whl (62 kB)\n",
            "\u001b[2K     \u001b[90m━━━━━━━━━━━━━━━━━━━━━━━━━━━━━━━━━━━━━━━━\u001b[0m \u001b[32m62.8/62.8 kB\u001b[0m \u001b[31m4.2 MB/s\u001b[0m eta \u001b[36m0:00:00\u001b[0m\n",
            "\u001b[?25hRequirement already satisfied: attrs>=17.3.0 in /home/saurabh-singh/miniconda3/envs/mlenv/lib/python3.11/site-packages (from aiohttp==3.8.3->chess.com) (22.1.0)\n",
            "Requirement already satisfied: charset-normalizer<3.0,>=2.0 in /home/saurabh-singh/miniconda3/envs/mlenv/lib/python3.11/site-packages (from aiohttp==3.8.3->chess.com) (2.0.4)\n",
            "Requirement already satisfied: multidict<7.0,>=4.5 in /home/saurabh-singh/miniconda3/envs/mlenv/lib/python3.11/site-packages (from aiohttp==3.8.3->chess.com) (6.0.2)\n",
            "Requirement already satisfied: async-timeout<5.0,>=4.0.0a3 in /home/saurabh-singh/miniconda3/envs/mlenv/lib/python3.11/site-packages (from aiohttp==3.8.3->chess.com) (4.0.2)\n",
            "Requirement already satisfied: yarl<2.0,>=1.0 in /home/saurabh-singh/miniconda3/envs/mlenv/lib/python3.11/site-packages (from aiohttp==3.8.3->chess.com) (1.8.1)\n",
            "Requirement already satisfied: frozenlist>=1.1.1 in /home/saurabh-singh/miniconda3/envs/mlenv/lib/python3.11/site-packages (from aiohttp==3.8.3->chess.com) (1.3.3)\n",
            "Requirement already satisfied: aiosignal>=1.1.2 in /home/saurabh-singh/miniconda3/envs/mlenv/lib/python3.11/site-packages (from aiohttp==3.8.3->chess.com) (1.2.0)\n",
            "Requirement already satisfied: idna<4,>=2.5 in /home/saurabh-singh/miniconda3/envs/mlenv/lib/python3.11/site-packages (from requests==2.28.0->chess.com) (3.4)\n",
            "Requirement already satisfied: urllib3<1.27,>=1.21.1 in /home/saurabh-singh/miniconda3/envs/mlenv/lib/python3.11/site-packages (from requests==2.28.0->chess.com) (1.26.16)\n",
            "Requirement already satisfied: certifi>=2017.4.17 in /home/saurabh-singh/miniconda3/envs/mlenv/lib/python3.11/site-packages (from requests==2.28.0->chess.com) (2023.7.22)\n",
            "Downloading chess.com-2.1.0-py3-none-any.whl (11 kB)\n",
            "Installing collected packages: requests, chess.com\n",
            "  Attempting uninstall: requests\n",
            "    Found existing installation: requests 2.31.0\n",
            "    Uninstalling requests-2.31.0:\n",
            "      Successfully uninstalled requests-2.31.0\n",
            "Successfully installed chess.com-2.1.0 requests-2.28.0\n"
          ]
        }
      ],
      "source": [
        "!pip install chess.com"
      ]
    },
    {
      "cell_type": "code",
      "execution_count": 2,
      "metadata": {
        "id": "krJ1WpkB-UJC"
      },
      "outputs": [],
      "source": [
        "from itertools import accumulate, chain\n",
        "\n",
        "import matplotlib.pyplot as plt\n",
        "import numpy as np\n",
        "import pandas as pd\n",
        "from scipy.stats import norm\n",
        "from sklearn.linear_model import LinearRegression\n",
        "\n",
        "from chessdotcom import Client, get_player_games_by_month"
      ]
    },
    {
      "cell_type": "code",
      "execution_count": 3,
      "metadata": {
        "colab": {
          "base_uri": "https://localhost:8080/",
          "height": 424
        },
        "id": "uOOoz3TnyOjc",
        "outputId": "6ae7798b-f5bf-4fbf-be37-7d54722c8180"
      },
      "outputs": [
        {
          "data": {
            "text/html": [
              "<div>\n",
              "<style scoped>\n",
              "    .dataframe tbody tr th:only-of-type {\n",
              "        vertical-align: middle;\n",
              "    }\n",
              "\n",
              "    .dataframe tbody tr th {\n",
              "        vertical-align: top;\n",
              "    }\n",
              "\n",
              "    .dataframe thead th {\n",
              "        text-align: right;\n",
              "    }\n",
              "</style>\n",
              "<table border=\"1\" class=\"dataframe\">\n",
              "  <thead>\n",
              "    <tr style=\"text-align: right;\">\n",
              "      <th></th>\n",
              "      <th>white_elo</th>\n",
              "      <th>black_elo</th>\n",
              "      <th>white_result</th>\n",
              "      <th>hikaru_white</th>\n",
              "    </tr>\n",
              "  </thead>\n",
              "  <tbody>\n",
              "    <tr>\n",
              "      <th>0</th>\n",
              "      <td>2538</td>\n",
              "      <td>3219</td>\n",
              "      <td>0.0</td>\n",
              "      <td>False</td>\n",
              "    </tr>\n",
              "    <tr>\n",
              "      <th>1</th>\n",
              "      <td>3220</td>\n",
              "      <td>2714</td>\n",
              "      <td>1.0</td>\n",
              "      <td>True</td>\n",
              "    </tr>\n",
              "    <tr>\n",
              "      <th>2</th>\n",
              "      <td>2839</td>\n",
              "      <td>3206</td>\n",
              "      <td>1.0</td>\n",
              "      <td>False</td>\n",
              "    </tr>\n",
              "    <tr>\n",
              "      <th>3</th>\n",
              "      <td>3207</td>\n",
              "      <td>2694</td>\n",
              "      <td>1.0</td>\n",
              "      <td>True</td>\n",
              "    </tr>\n",
              "    <tr>\n",
              "      <th>4</th>\n",
              "      <td>2785</td>\n",
              "      <td>3208</td>\n",
              "      <td>0.0</td>\n",
              "      <td>False</td>\n",
              "    </tr>\n",
              "    <tr>\n",
              "      <th>...</th>\n",
              "      <td>...</td>\n",
              "      <td>...</td>\n",
              "      <td>...</td>\n",
              "      <td>...</td>\n",
              "    </tr>\n",
              "    <tr>\n",
              "      <th>3845</th>\n",
              "      <td>3223</td>\n",
              "      <td>2951</td>\n",
              "      <td>1.0</td>\n",
              "      <td>True</td>\n",
              "    </tr>\n",
              "    <tr>\n",
              "      <th>3846</th>\n",
              "      <td>2948</td>\n",
              "      <td>3226</td>\n",
              "      <td>0.0</td>\n",
              "      <td>False</td>\n",
              "    </tr>\n",
              "    <tr>\n",
              "      <th>3847</th>\n",
              "      <td>3229</td>\n",
              "      <td>2945</td>\n",
              "      <td>1.0</td>\n",
              "      <td>True</td>\n",
              "    </tr>\n",
              "    <tr>\n",
              "      <th>3848</th>\n",
              "      <td>2942</td>\n",
              "      <td>3232</td>\n",
              "      <td>0.0</td>\n",
              "      <td>False</td>\n",
              "    </tr>\n",
              "    <tr>\n",
              "      <th>3849</th>\n",
              "      <td>3235</td>\n",
              "      <td>2939</td>\n",
              "      <td>1.0</td>\n",
              "      <td>True</td>\n",
              "    </tr>\n",
              "  </tbody>\n",
              "</table>\n",
              "<p>3850 rows × 4 columns</p>\n",
              "</div>"
            ],
            "text/plain": [
              "      white_elo  black_elo  white_result  hikaru_white\n",
              "0          2538       3219           0.0         False\n",
              "1          3220       2714           1.0          True\n",
              "2          2839       3206           1.0         False\n",
              "3          3207       2694           1.0          True\n",
              "4          2785       3208           0.0         False\n",
              "...         ...        ...           ...           ...\n",
              "3845       3223       2951           1.0          True\n",
              "3846       2948       3226           0.0         False\n",
              "3847       3229       2945           1.0          True\n",
              "3848       2942       3232           0.0         False\n",
              "3849       3235       2939           1.0          True\n",
              "\n",
              "[3850 rows x 4 columns]"
            ]
          },
          "execution_count": 3,
          "metadata": {},
          "output_type": "execute_result"
        }
      ],
      "source": [
        "\"\"\"\n",
        "Get all the data from chess.com API, filter the relevant games, and get the relevant columns\n",
        "\"\"\"\n",
        "\n",
        "# Possible game outcomes according to chess.com\n",
        "result_map = {\n",
        "  'win': 1,\n",
        "  'resigned': 0,\n",
        "  'repetition': 0.5,\n",
        "  'agreed': 0.5,\n",
        "  'timeout': 0,\n",
        "  'insufficient': 0.5,\n",
        "  'checkmated': 0,\n",
        "  'stalemate': 0.5,\n",
        "  '50move': 0.5,\n",
        "  'timevsinsufficient': 0.5,\n",
        "  'abandoned': 0,\n",
        "}\n",
        "\n",
        "Client.request_config['headers']['User-Agent'] = (\n",
        "  'Hikaru winrate Colab'\n",
        ")\n",
        "\n",
        "def get_month_games(month):\n",
        "  # Get the data from chess.com API\n",
        "  response = get_player_games_by_month(\"Hikaru\", 2023, month)\n",
        "  games = response.json['games']\n",
        "\n",
        "  # Filter only blitz games with standard chess rules when the ELO diff is less than 1000\n",
        "  games = [\n",
        "    game\n",
        "    for game in games\n",
        "    if game['time_class'] == 'blitz' and game['rules'] == 'chess' and abs(game['white']['rating'] - game['black']['rating']) < 1000\n",
        "  ]\n",
        "\n",
        "  # Get only relevant data White ELO, Black ELO, White result, Hikaru color\n",
        "  games = [\n",
        "    (game['white']['rating'], game['black']['rating'], result_map[game['white']['result']], game['white']['username'] == 'Hikaru')\n",
        "    for game in games\n",
        "  ]\n",
        "\n",
        "  return games\n",
        "\n",
        "\n",
        "# Concatenate the data for 2023 months\n",
        "games = pd.DataFrame(\n",
        "  chain.from_iterable(get_month_games(month) for month in range(1, 12)),\n",
        "  columns=['white_elo', 'black_elo', 'white_result', 'hikaru_white'],\n",
        ")\n",
        "\n",
        "games"
      ]
    },
    {
      "cell_type": "code",
      "execution_count": 4,
      "metadata": {
        "colab": {
          "base_uri": "https://localhost:8080/"
        },
        "id": "4Nj-PtlvrWAF",
        "outputId": "c3c13e15-dcc4-4d27-9e8a-ba3ae58706b8"
      },
      "outputs": [
        {
          "data": {
            "text/plain": [
              "(2025.000000000001, 2025.0)"
            ]
          },
          "execution_count": 4,
          "metadata": {},
          "output_type": "execute_result"
        }
      ],
      "source": [
        "\"\"\"\n",
        "Calculate estimated white player point gain\n",
        "\"\"\"\n",
        "\n",
        "lin_reg = LinearRegression().fit([[val] for val in games.white_elo - games.black_elo], games.white_result)\n",
        "games['white_expected'] = ((games.white_elo - games.black_elo) * lin_reg.coef_) + lin_reg.intercept_\n",
        "\n",
        "# Predicted point gain for white vs true point gain. Almost perfect fit indicating that the linaer regression is an okay model for this.\n",
        "sum(games['white_expected']), sum(games['white_result'])"
      ]
    },
    {
      "cell_type": "code",
      "execution_count": 7,
      "metadata": {
        "colab": {
          "base_uri": "https://localhost:8080/",
          "height": 448
        },
        "id": "62kMt_pF0YNF",
        "outputId": "58f29517-5efb-46fa-afb5-7acc9daaca4c"
      },
      "outputs": [
        {
          "data": {
            "text/plain": [
              "[<matplotlib.lines.Line2D at 0x7f21142d1e90>]"
            ]
          },
          "execution_count": 7,
          "metadata": {},
          "output_type": "execute_result"
        },
        {
          "data": {
            "image/png": "[encoded data removed]",
            "text/plain": [
              "<Figure size 640x480 with 1 Axes>"
            ]
          },
          "metadata": {},
          "output_type": "display_data"
        }
      ],
      "source": [
        "def simulate(n=100000):\n",
        "  \"\"\"\n",
        "  Return max winstreak size for `n` simulations\n",
        "  \"\"\"\n",
        "  for _ in range(n):\n",
        "    white_wins = np.random.rand(len(games)) < games.white_expected  # Based on the ELO diffs, simulate all the games\n",
        "    hikaru_wins = white_wins == games.hikaru_white  # Did Hikaru win?\n",
        "    yield max(accumulate(hikaru_wins, lambda acc, e: acc * e + e))  # Calculate max winstreak\n",
        "\n",
        "max_winstreaks = list(simulate())\n",
        "\n",
        "plt.plot(np.linspace(0, 100), norm.pdf(np.linspace(0, 100), *(norm.fit(max_winstreaks))))"
      ]
    },
    {
      "cell_type": "code",
      "execution_count": 8,
      "metadata": {
        "colab": {
          "base_uri": "https://localhost:8080/"
        },
        "id": "yOlAhtoPBEGE",
        "outputId": "c6183acc-bdba-4df4-9c03-5eb7e65c5ab4"
      },
      "outputs": [
        {
          "name": "stdout",
          "output_type": "stream",
          "text": [
            "The expected max winstreak should be in [33.14, 61.67] interval\n",
            "The average expected max winstreak is 47.41\n"
          ]
        }
      ],
      "source": [
        "print(f'The expected max winstreak should be in [{norm.ppf(0.05, *(norm.fit(max_winstreaks))):.2f}, {norm.ppf(0.95, *(norm.fit(max_winstreaks))):.2f}] interval')\n",
        "print(f'The average expected max winstreak is {norm.ppf(0.5, *(norm.fit(max_winstreaks))):.2f}')"
      ]
    },
    {
      "cell_type": "code",
      "execution_count": null,
      "metadata": {
        "id": "ikYw0jheBTHI"
      },
      "outputs": [],
      "source": []
    }
  ],
  "metadata": {
    "colab": {
      "provenance": []
    },
    "kernelspec": {
      "display_name": "Python 3",
      "name": "python3"
    },
    "language_info": {
      "codemirror_mode": {
        "name": "ipython",
        "version": 3
      },
      "file_extension": ".py",
      "mimetype": "text/x-python",
      "name": "python",
      "nbconvert_exporter": "python",
      "pygments_lexer": "ipython3",
      "version": "3.11.4"
    }
  },
  "nbformat": 4,
  "nbformat_minor": 0
}
