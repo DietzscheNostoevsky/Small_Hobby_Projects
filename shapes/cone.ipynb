{
 "cells": [
  {
   "cell_type": "code",
   "execution_count": 4,
   "metadata": {},
   "outputs": [
    {
     "ename": "AttributeError",
     "evalue": "bpy_prop_collection: attribute \"link\" not found",
     "output_type": "error",
     "traceback": [
      "\u001b[0;31m---------------------------------------------------------------------------\u001b[0m",
      "\u001b[0;31mAttributeError\u001b[0m                            Traceback (most recent call last)",
      "Cell \u001b[0;32mIn[4], line 51\u001b[0m\n\u001b[1;32m     48\u001b[0m \u001b[38;5;66;03m# link to scene\u001b[39;00m\n\u001b[1;32m     50\u001b[0m scene \u001b[38;5;241m=\u001b[39m context\u001b[38;5;241m.\u001b[39mscene\n\u001b[0;32m---> 51\u001b[0m \u001b[43mscene\u001b[49m\u001b[38;5;241;43m.\u001b[39;49m\u001b[43mobjects\u001b[49m\u001b[38;5;241;43m.\u001b[39;49m\u001b[43mlink\u001b[49m(cone)\n\u001b[1;32m     52\u001b[0m scene\u001b[38;5;241m.\u001b[39mobjects\u001b[38;5;241m.\u001b[39mactive \u001b[38;5;241m=\u001b[39m cone\n\u001b[1;32m     53\u001b[0m cone\u001b[38;5;241m.\u001b[39mselect \u001b[38;5;241m=\u001b[39m \u001b[38;5;28;01mTrue\u001b[39;00m\n",
      "\u001b[0;31mAttributeError\u001b[0m: bpy_prop_collection: attribute \"link\" not found"
     ]
    }
   ],
   "source": [
    "import bpy\n",
    "import bmesh\n",
    "from mathutils import Vector\n",
    "from math import radians, sin, cos, sqrt\n",
    "\n",
    "from bpy import context  # for testing\n",
    "\n",
    "r = 1  # radius of cone\n",
    "h = 1  # height of cone\n",
    "sectors = 16\n",
    "l = sqrt(r**2 + h**2)  # hypotenuse\n",
    "# sector will have angle\n",
    "\n",
    "theta = radians(360) * r / l\n",
    "dtheta = theta / sectors\n",
    "\n",
    "# build the base\n",
    "\n",
    "bm = bmesh.new()\n",
    "\n",
    "verts = []\n",
    "for i in range(sectors + 1):\n",
    "    a = i * dtheta\n",
    "    verts.append(bm.verts.new((l * cos(a), l * sin(a), 0)))\n",
    "\n",
    "topvert = bm.verts.new((0, 0, 0))\n",
    "for i in range(sectors):\n",
    "    bm.faces.new([verts[i + 1], topvert, verts[i]])\n",
    "\n",
    "cone_mesh = bpy.data.meshes.new(\"Cone\")\n",
    "cone = bpy.data.objects.new(\"Cone\", cone_mesh)\n",
    "bm.to_mesh(cone_mesh)\n",
    "\n",
    "\n",
    "# add base as basis shape key\n",
    "basis_shape_key = cone.shape_key_add(name=\"Basis\")\n",
    "\n",
    "# add second shape key\n",
    "\n",
    "cone_shape_key = cone.shape_key_add(name=\"Cone\")\n",
    "offset = (radians(360) - theta) / 2\n",
    "dtheta = radians(360) / sectors\n",
    "for v in verts:\n",
    "    a = v.index * dtheta - offset\n",
    "    cone_shape_key.data[v.index].co = (r * cos(a), r * sin(a), 0)\n",
    "cone_shape_key.data[topvert.index].co = (0, 0, h)\n",
    "\n",
    "# link to scene\n",
    "\n",
    "scene = context.scene\n",
    "scene.objects.link(cone)\n",
    "scene.objects.active = cone\n",
    "cone.select = True"
   ]
  }
 ],
 "metadata": {
  "kernelspec": {
   "display_name": "testenv",
   "language": "python",
   "name": "python3"
  },
  "language_info": {
   "codemirror_mode": {
    "name": "ipython",
    "version": 3
   },
   "file_extension": ".py",
   "mimetype": "text/x-python",
   "name": "python",
   "nbconvert_exporter": "python",
   "pygments_lexer": "ipython3",
   "version": "3.10.13"
  }
 },
 "nbformat": 4,
 "nbformat_minor": 2
}
