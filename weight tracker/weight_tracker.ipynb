{
 "cells": [
  {
   "attachments": {},
   "cell_type": "markdown",
   "metadata": {},
   "source": [
    "## Weight Tracker \n",
    "\n",
    "script to track/calculate weight desiered with given parameters such as BMI, Fat, Muscle , bone mass"
   ]
  },
  {
   "cell_type": "code",
   "execution_count": null,
   "metadata": {},
   "outputs": [],
   "source": [
    "# Set initial variables \n",
    "\n",
    "Height = 175 # in cms \n",
    "Bonemass = 3.2 # in kg\n",
    "P_weight = 88.0 # set present weight (in kg)\n",
    "P_BMI = P_weight / (Height ** 2) # Calculate BMI\n",
    "P_fat = 28.8  # as percentage \n",
    "P_Muscle = 59.56 # in kg \n",
    "    "
   ]
  }
 ],
 "metadata": {
  "language_info": {
   "name": "python"
  },
  "orig_nbformat": 4
 },
 "nbformat": 4,
 "nbformat_minor": 2
}
