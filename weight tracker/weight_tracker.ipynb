{
 "cells": [
  {
   "attachments": {},
   "cell_type": "markdown",
   "metadata": {},
   "source": [
    "## Weight Tracker \n",
    "\n",
    "script to track/calculate weight desiered with given parameters such as BMI, Fat, Muscle , bone mass"
   ]
  },
  {
   "cell_type": "code",
   "execution_count": 5,
   "metadata": {},
   "outputs": [],
   "source": [
    "# Set initial variables \n",
    "\n",
    "Height = 1.75 # in m\n",
    "Bonemass = 3.2 # in kg\n",
    "P_weight = 88.0 # set present weight (in kg)\n",
    "P_BMI = P_weight / (Height ** 2) # Calculate BMI\n",
    "P_fat = 28.8  # as percentage \n",
    "P_Muscle = 59.56 # in kg "
   ]
  },
  {
   "cell_type": "code",
   "execution_count": 6,
   "metadata": {},
   "outputs": [
    {
     "data": {
      "text/plain": [
       "28.73469387755102"
      ]
     },
     "execution_count": 6,
     "metadata": {},
     "output_type": "execute_result"
    }
   ],
   "source": [
    "P_BMI"
   ]
  },
  {
   "cell_type": "code",
   "execution_count": 7,
   "metadata": {},
   "outputs": [],
   "source": [
    "# change the variable you are targetting \n",
    "T_BMI = None # Set target BMI here \n",
    "T_weight = 80.0 # Set target weight \n",
    "T_fat = 20.0 # Set target fat percentages \n",
    "T_Muscle = P_Muscle # Change if muscle mass changes "
   ]
  },
  {
   "cell_type": "code",
   "execution_count": 30,
   "metadata": {},
   "outputs": [
    {
     "name": "stdout",
     "output_type": "stream",
     "text": [
      "Weight = 80 kg , Fat = 21.550\n",
      "Weight = 81 kg , Fat = 22.519\n",
      "Weight = 82 kg , Fat = 23.463\n",
      "Weight = 83 kg , Fat = 24.386\n",
      "Weight = 84 kg , Fat = 25.286\n",
      "Weight = 85 kg , Fat = 26.165\n",
      "Weight = 86 kg , Fat = 27.023\n",
      "Weight = 87 kg , Fat = 27.862\n",
      "Weight = 88 kg , Fat = 28.682\n",
      "Weight = 89 kg , Fat = 29.483\n"
     ]
    }
   ],
   "source": [
    "# Formula\n",
    "# Calculate target fat for different weights\n",
    "\n",
    "for w in range(int(T_weight), int(T_weight+10), 1):\n",
    "   Fat_percentage = ((w - T_Muscle - Bonemass)/w)*100\n",
    "   print(F\"Weight = {w} kg , Fat = {Fat_percentage :.3f}\")\n",
    "   \n"
   ]
  }
 ],
 "metadata": {
  "kernelspec": {
   "display_name": "Python 3",
   "language": "python",
   "name": "python3"
  },
  "language_info": {
   "codemirror_mode": {
    "name": "ipython",
    "version": 3
   },
   "file_extension": ".py",
   "mimetype": "text/x-python",
   "name": "python",
   "nbconvert_exporter": "python",
   "pygments_lexer": "ipython3",
   "version": "3.9.6"
  },
  "orig_nbformat": 4,
  "vscode": {
   "interpreter": {
    "hash": "aee8b7b246df8f9039afb4144a1f6fd8d2ca17a180786b69acc140d282b71a49"
   }
  }
 },
 "nbformat": 4,
 "nbformat_minor": 2
}
